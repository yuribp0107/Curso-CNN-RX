{
  "nbformat": 4,
  "nbformat_minor": 0,
  "metadata": {
    "colab": {
      "provenance": [],
      "authorship_tag": "ABX9TyPoyVkHC6nyP4vRk6vHlBTP",
      "include_colab_link": true
    },
    "kernelspec": {
      "name": "python3",
      "display_name": "Python 3"
    },
    "language_info": {
      "name": "python"
    }
  },
  "cells": [
    {
      "cell_type": "markdown",
      "metadata": {
        "id": "view-in-github",
        "colab_type": "text"
      },
      "source": [
        "<a href=\"https://colab.research.google.com/github/yuribp0107/Curso-CNN-RX/blob/main/Taller_Algoritmo_y_Python.ipynb\" target=\"_parent\"><img src=\"https://colab.research.google.com/assets/colab-badge.svg\" alt=\"Open In Colab\"/></a>"
      ]
    },
    {
      "cell_type": "code",
      "execution_count": null,
      "metadata": {
        "id": "zh2k5ZZnpcPm"
      },
      "outputs": [],
      "source": [
        "# Inicio del código\n",
        "\n",
        "# Preguntar si la lámpara está enchufada\n",
        "enchufada = input(\"¿Está enchufada la lámpara? (si/no): \").strip().lower()\n",
        "if enchufada == \"no\":\n",
        "    print(\"Enchufar la lámpara\")\n",
        "elif enchufada == \"si\":\n",
        "    # Si está enchufada, preguntamos si el foco está quemado\n",
        "    quemado = input(\"¿El foco está quemado? (si/no): \").strip().lower()\n",
        "    if quemado == \"si\":\n",
        "        print(\"Reemplazar el foco\")\n",
        "    else:\n",
        "        print(\"Comprar una nueva lámpara\")\n",
        "else:\n",
        "    print(\"Respuesta no reconocida. Por favor, responde 'si' o 'no'.\")\n",
        "\n",
        "# Fin del código\n"
      ]
    }
  ]
}